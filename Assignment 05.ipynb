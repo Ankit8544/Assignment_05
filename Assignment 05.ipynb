{
 "cells": [
  {
   "cell_type": "markdown",
   "id": "cc06681f-98b6-48ce-991b-aee6a52ab74c",
   "metadata": {},
   "source": [
    "Q.No-01    Explain Class and Object with respect to Object-Oriented Programming. Give a suitable example."
   ]
  },
  {
   "cell_type": "markdown",
   "id": "0fd1f01d-3bef-41f5-9f4d-c31ffaa97acb",
   "metadata": {},
   "source": [
    "Ans:"
   ]
  },
  {
   "cell_type": "markdown",
   "id": "44eef82e-038a-425d-975b-ed710353efe7",
   "metadata": {},
   "source": [
    "Class is a blueprint or template for creating objects. It defines a set of properties and behaviors that objects of that class will have. \n",
    "\n",
    "Object are instances of a class. They are the actual entities that exist in memory and can be manipulated or interacted with."
   ]
  },
  {
   "cell_type": "code",
   "execution_count": 1,
   "id": "8c67ae4e-ef90-4051-8633-e1297b942949",
   "metadata": {},
   "outputs": [],
   "source": [
    "class Car:\n",
    "    def __init__(self, brand, model, color, year, price):\n",
    "        self.brand = brand\n",
    "        self.model = model\n",
    "        self.color = color\n",
    "        self.year = year\n",
    "        self.price = price"
   ]
  },
  {
   "cell_type": "code",
   "execution_count": 2,
   "id": "7b7c0028-bd7f-42d4-8503-47beb6238270",
   "metadata": {},
   "outputs": [],
   "source": [
    "# Create an instance of MyCar\n",
    "my_car = Car(\"Toyota\", \"Camry\", \"Silver\", 2019, 25000)"
   ]
  },
  {
   "cell_type": "code",
   "execution_count": 3,
   "id": "755b43d6-7f62-4053-ae04-77e5f401d519",
   "metadata": {},
   "outputs": [
    {
     "name": "stdout",
     "output_type": "stream",
     "text": [
      "Brand: Toyota\n",
      "Model: Camry\n",
      "Color: Silver\n",
      "Year: 2019\n",
      "Price: 25000\n"
     ]
    }
   ],
   "source": [
    "# Accessing properties of MyCar\n",
    "print(\"Brand:\", my_car.brand)\n",
    "print(\"Model:\", my_car.model)\n",
    "print(\"Color:\", my_car.color)\n",
    "print(\"Year:\", my_car.year)\n",
    "print(\"Price:\", my_car.price)"
   ]
  },
  {
   "cell_type": "markdown",
   "id": "21b31de1-7ba1-4126-954d-7490ab1ad474",
   "metadata": {},
   "source": [
    "-------------------------------------------------------------------------------------------------------------------"
   ]
  },
  {
   "cell_type": "markdown",
   "id": "8db8cfe5-b5d2-4163-b315-1cf35fdf9ce6",
   "metadata": {},
   "source": [
    "Q.No-02    Name the four pillars of OOPs."
   ]
  },
  {
   "cell_type": "markdown",
   "id": "da0655cd-ede2-4d4d-b470-668b9bfc4697",
   "metadata": {},
   "source": [
    "Ans:"
   ]
  },
  {
   "cell_type": "markdown",
   "id": "abd54609-363c-482b-b31e-6a3d3b897a52",
   "metadata": {},
   "source": [
    " Name the four pillars of OOPs:-"
   ]
  },
  {
   "cell_type": "markdown",
   "id": "7432b461-5a80-49b8-b949-2f07a1136fa5",
   "metadata": {},
   "source": [
    "1.    Encapsulation"
   ]
  },
  {
   "cell_type": "markdown",
   "id": "b63ac1d1-6efc-48b5-abb1-b8e3f32f1c8e",
   "metadata": {},
   "source": [
    "2.    Inheritance"
   ]
  },
  {
   "cell_type": "markdown",
   "id": "179db3cf-8869-41f7-b57e-cafaaedbcf0a",
   "metadata": {},
   "source": [
    "3.    Polymorphism"
   ]
  },
  {
   "cell_type": "markdown",
   "id": "c44402e1-c4c3-4bdd-aaf8-a807ede87d41",
   "metadata": {},
   "source": [
    "4.    Abstraction"
   ]
  },
  {
   "cell_type": "markdown",
   "id": "48b4fd8f-743c-432a-b272-a29b4efdda62",
   "metadata": {},
   "source": [
    "-------------------------------------------------------------------------------------------------------------------"
   ]
  },
  {
   "cell_type": "markdown",
   "id": "ceb8a185-f23e-4ca5-a6fd-90479e31a1c3",
   "metadata": {},
   "source": [
    "Q.No-03    Explain why the __init__() function is used. Give a suitable example"
   ]
  },
  {
   "cell_type": "markdown",
   "id": "00d0a73e-03da-4e70-b17c-af99282fc32c",
   "metadata": {},
   "source": [
    "Ans:"
   ]
  },
  {
   "cell_type": "markdown",
   "id": "559ca8e7-b9fc-432e-b18c-5ec9d846031d",
   "metadata": {},
   "source": [
    "The '__ init__()' function is a special method in Python that is automatically called when an object is created from a class. It is commonly used to initialize the attributes of an object, which means setting their initial values. The '__ init __()' function allows you to define the state of an object when it is created, ensuring that the object starts with the desired attributes and their initial values."
   ]
  },
  {
   "cell_type": "code",
   "execution_count": 4,
   "id": "5afb8a83-3f50-4317-80ed-e61793498bef",
   "metadata": {},
   "outputs": [],
   "source": [
    "class Triangle: \n",
    "#Here Triangle is a class\n",
    "    def __init__(self, base, height):\n",
    "        self.base = base\n",
    "        self.height = height\n",
    "\n",
    "    def area(self):\n",
    "        return (self.base * self.height)/2\n",
    "\n",
    "    def perimeter(self):\n",
    "        return 3 * self.base"
   ]
  },
  {
   "cell_type": "code",
   "execution_count": 5,
   "id": "4a6a7f5d-5747-4af4-b548-58595b3a15bc",
   "metadata": {},
   "outputs": [
    {
     "name": "stdin",
     "output_type": "stream",
     "text": [
      "The Base of the Triangle : 5\n",
      "The Height of the Triangle : 10\n"
     ]
    },
    {
     "name": "stdout",
     "output_type": "stream",
     "text": [
      "\n",
      "Area of the Triangle : 25.0\n",
      "Perimeter of the Triangle : 15\n"
     ]
    }
   ],
   "source": [
    "Trio = Triangle(int(input('The Base of the Triangle :')), int(input('The Height of the Triangle :')))\n",
    "#Here Trio is an object\n",
    "print()\n",
    "print('Area of the Triangle :', Trio.area())\n",
    "print('Perimeter of the Triangle :', Trio.perimeter())"
   ]
  },
  {
   "cell_type": "markdown",
   "id": "f2e4b066-f278-4c8c-9e79-81f046d39a44",
   "metadata": {},
   "source": [
    "-------------------------------------------------------------------------------------------------------------------"
   ]
  },
  {
   "cell_type": "markdown",
   "id": "d2514ccd-4177-432d-aad4-4045c22bce9a",
   "metadata": {},
   "source": [
    "Q.No-04    Why self is used in OOPs?"
   ]
  },
  {
   "cell_type": "markdown",
   "id": "b31560cf-c149-469e-bebd-213da629ae2f",
   "metadata": {},
   "source": [
    "Ans:"
   ]
  },
  {
   "cell_type": "markdown",
   "id": "7cd9920b-151d-4bab-9cd3-e7d5bc23bccb",
   "metadata": {},
   "source": [
    "In object-oriented programming (OOP), the self keyword is used to refer to the current instance of a class. It is a convention in many programming languages, such as Python, to use self as the first parameter of instance methods.\n",
    "\n",
    "The self parameter allows you to access and modify the attributes and methods of the current object within the class. It acts as a reference to the instance itself, enabling you to differentiate between instance variables and local variables or variables from outer scopes.\n",
    "\n",
    "By using self, you can access instance variables, call instance methods, or access other attributes specific to the current object. It provides a way to encapsulate data and behavior within individual instances of a class."
   ]
  },
  {
   "cell_type": "markdown",
   "id": "533401f1-4051-43e4-b749-91f5ae35852a",
   "metadata": {},
   "source": [
    "Example:"
   ]
  },
  {
   "cell_type": "code",
   "execution_count": 6,
   "id": "c9eaf093-fcfa-4ced-918d-e763e0bb433e",
   "metadata": {},
   "outputs": [
    {
     "name": "stdout",
     "output_type": "stream",
     "text": [
      "Name of the Car is : Toyota\n",
      "Color of the Car is : blue\n",
      "The blue Toyota car's engine has started.\n"
     ]
    }
   ],
   "source": [
    "class Car:\n",
    "    def __init__(self, brand, color):\n",
    "        self.brand = brand\n",
    "        self.color = color\n",
    "\n",
    "    def start_engine(self):\n",
    "        print(f\"The {self.color} {self.brand} car's engine has started.\")\n",
    "\n",
    "my_car = Car(\"Toyota\", \"blue\")\n",
    "\n",
    "print('Name of the Car is :', my_car.brand)\n",
    "print('Color of the Car is :', my_car.color)\n",
    "\n",
    "my_car.start_engine()"
   ]
  },
  {
   "cell_type": "markdown",
   "id": "8435e28d-d08c-4b6f-a38f-a81016a66eaa",
   "metadata": {},
   "source": [
    "In the above example, self.brand and self.color refer to the instance variables of the Car class. The start_engine() method uses self to access these instance variables and prints a message using their values.\n",
    "\n",
    "By using self, you can differentiate between the attributes and methods of different instances of the same class. It enables you to work with the specific data associated with each instance and allows for effective object-oriented programming."
   ]
  },
  {
   "cell_type": "markdown",
   "id": "860316f0-0a96-4a34-a0f2-179085fe801a",
   "metadata": {},
   "source": [
    "-------------------------------------------------------------------------------------------------------------------"
   ]
  },
  {
   "cell_type": "markdown",
   "id": "a3176158-787a-43a6-9555-3cda2b7c8cf3",
   "metadata": {},
   "source": [
    "Q.No-05    What is inheritance? Give an example for each type of inheritance."
   ]
  },
  {
   "cell_type": "markdown",
   "id": "481a0233-4172-4a7c-aded-a8b3120695e3",
   "metadata": {},
   "source": [
    "Ans:"
   ]
  },
  {
   "cell_type": "markdown",
   "id": "70e1117f-650b-4b54-8988-9f833cf23030",
   "metadata": {},
   "source": [
    "In object-oriented programming, inheritance is a mechanism that allows classes to inherit properties and behaviors from other classes. The class that inherits from another class is called a \"subclass\" or \"derived class,\" and the class being inherited from is called the \"superclass\" or \"base class.\" Inheritance enables code reuse, promotes code organization, and supports the concept of \"is-a\" relationships."
   ]
  },
  {
   "cell_type": "markdown",
   "id": "971de805-9918-41a3-8c5d-23c4b674c3b7",
   "metadata": {},
   "source": [
    "There are different types of inheritance:"
   ]
  },
  {
   "cell_type": "markdown",
   "id": "c73ce505-250d-414d-b968-a4ebc912b0da",
   "metadata": {},
   "source": [
    "1.    Single inheritance: In single inheritance, a subclass inherits from a single superclass. This means that a subclass can have only one immediate superclass."
   ]
  },
  {
   "cell_type": "code",
   "execution_count": 7,
   "id": "34cf1d78-42e7-4d6b-aeed-01f35a291b30",
   "metadata": {},
   "outputs": [],
   "source": [
    "class Shape:\n",
    "    def __init__(self, side_length):\n",
    "        self.side_length = side_length\n",
    "\n",
    "    def perimeter(self):\n",
    "        perimeter = 4 * self.side_length\n",
    "        print(f\"The perimeter of the square with side length {self.side_length} is {perimeter} units.\")\n",
    "\n",
    "\n",
    "class Square(Shape):\n",
    "    def __init__(self, side_length):\n",
    "        super().__init__(side_length)\n",
    "\n",
    "    def area(self):\n",
    "        area = self.side_length ** 2\n",
    "        print(f\"The area of the square with side length {self.side_length} is {area} square units.\")"
   ]
  },
  {
   "cell_type": "code",
   "execution_count": 8,
   "id": "a6292357-0416-46ed-859c-39cbb1dde699",
   "metadata": {},
   "outputs": [
    {
     "name": "stdout",
     "output_type": "stream",
     "text": [
      "The perimeter of the square with side length 5 is 20 units.\n",
      "The area of the square with side length 5 is 25 square units.\n"
     ]
    }
   ],
   "source": [
    "square = Square(5)\n",
    "square.perimeter()  \n",
    "square.area()  "
   ]
  },
  {
   "cell_type": "markdown",
   "id": "d6f0a2f9-16a9-4dca-a558-8fb8712aff36",
   "metadata": {},
   "source": [
    "2.    Multiple inheritance: Multiple inheritance allows a subclass to inherit from multiple superclasses. The subclass combines and inherits properties and behaviors from all the superclasses."
   ]
  },
  {
   "cell_type": "code",
   "execution_count": 19,
   "id": "e5d3e9fa-2716-43b8-a4b2-7c59b1637c8e",
   "metadata": {},
   "outputs": [],
   "source": [
    "class MaternalSide:\n",
    "    def __init__(self, maternal_trait):\n",
    "        self.maternal_trait = maternal_trait"
   ]
  },
  {
   "cell_type": "code",
   "execution_count": 20,
   "id": "3a35d6ce-e9c2-4f44-bf8d-64686abe63f6",
   "metadata": {},
   "outputs": [],
   "source": [
    "class PaternalSide:\n",
    "    def __init__(self, paternal_trait):\n",
    "        self.paternal_trait = paternal_trait"
   ]
  },
  {
   "cell_type": "code",
   "execution_count": 21,
   "id": "53c6959e-5207-4616-ab4c-8853498a38c2",
   "metadata": {},
   "outputs": [],
   "source": [
    "class Child(MaternalSide, PaternalSide):\n",
    "    def __init__(self, maternal_trait, paternal_trait):\n",
    "        MaternalSide.__init__(self, maternal_trait)\n",
    "        PaternalSide.__init__(self, paternal_trait)"
   ]
  },
  {
   "cell_type": "code",
   "execution_count": 22,
   "id": "df6cae18-dab5-4235-8e0a-892b993b9d91",
   "metadata": {},
   "outputs": [],
   "source": [
    "child = Child(\"blue eyes\", \"brown hair\")"
   ]
  },
  {
   "cell_type": "code",
   "execution_count": 24,
   "id": "cf67c488-9bd0-4318-9cb3-2e298ba3ff72",
   "metadata": {},
   "outputs": [
    {
     "name": "stdout",
     "output_type": "stream",
     "text": [
      "I got blue eyes from my mother\n",
      "I got brown hair from my father\n"
     ]
    }
   ],
   "source": [
    "print('I got', child.maternal_trait,'from my mother')  \n",
    "print('I got', child.paternal_trait, 'from my father')  "
   ]
  },
  {
   "cell_type": "markdown",
   "id": "33463a7a-750b-465a-9747-6cb166fb4690",
   "metadata": {},
   "source": [
    "3.    Multilevel inheritance: In multilevel inheritance, a subclass inherits from a superclass, and that subclass becomes the superclass for another subclass. This creates a hierarchy of classes."
   ]
  },
  {
   "cell_type": "code",
   "execution_count": 1,
   "id": "f7c9b6e2-e8cd-4f9e-859f-8414bd260b6e",
   "metadata": {},
   "outputs": [],
   "source": [
    "class Vehicle:\n",
    "    def __init__(self, brand):\n",
    "        self.brand = brand\n",
    "    \n",
    "    def start(self):\n",
    "        print(f\"{self.brand} vehicle has started.\")\n",
    "\n",
    "class Car(Vehicle):\n",
    "    def __init__(self, brand, model):\n",
    "        super().__init__(brand)\n",
    "        self.model = model\n",
    "    \n",
    "    def drive(self):\n",
    "        print(f\"{self.brand} {self.model} is being driven.\")\n",
    "\n",
    "class SportsCar(Car):\n",
    "    def __init__(self, brand, model, top_speed):\n",
    "        super().__init__(brand, model)\n",
    "        self.top_speed = top_speed\n",
    "    \n",
    "    def accelerate(self):\n",
    "        print(f\"{self.brand} {self.model} is accelerating to {self.top_speed} km/h.\")"
   ]
  },
  {
   "cell_type": "code",
   "execution_count": 2,
   "id": "da6190ee-54e0-4dde-a27d-d19ecea09774",
   "metadata": {},
   "outputs": [],
   "source": [
    "sports_car = SportsCar(\"Ferrari\", \"458 Italia\", 325)"
   ]
  },
  {
   "cell_type": "code",
   "execution_count": 3,
   "id": "cb9b3a67-fa08-4bd5-8738-f2dd5067d55f",
   "metadata": {},
   "outputs": [
    {
     "name": "stdout",
     "output_type": "stream",
     "text": [
      "Ferrari vehicle has started.\n"
     ]
    }
   ],
   "source": [
    "sports_car.start()"
   ]
  },
  {
   "cell_type": "code",
   "execution_count": 4,
   "id": "5bbf3604-7590-43fb-9e25-e75ee29c4662",
   "metadata": {},
   "outputs": [
    {
     "name": "stdout",
     "output_type": "stream",
     "text": [
      "Ferrari 458 Italia is being driven.\n"
     ]
    }
   ],
   "source": [
    "sports_car.drive()"
   ]
  },
  {
   "cell_type": "code",
   "execution_count": 5,
   "id": "3fa27ece-3d79-4a82-af05-0a157e960d95",
   "metadata": {},
   "outputs": [
    {
     "name": "stdout",
     "output_type": "stream",
     "text": [
      "Ferrari 458 Italia is accelerating to 325 km/h.\n"
     ]
    }
   ],
   "source": [
    "sports_car.accelerate()"
   ]
  },
  {
   "cell_type": "code",
   "execution_count": null,
   "id": "a2e9cf80-8021-48cb-b34b-b2a06053824c",
   "metadata": {},
   "outputs": [],
   "source": []
  }
 ],
 "metadata": {
  "kernelspec": {
   "display_name": "Python 3 (ipykernel)",
   "language": "python",
   "name": "python3"
  },
  "language_info": {
   "codemirror_mode": {
    "name": "ipython",
    "version": 3
   },
   "file_extension": ".py",
   "mimetype": "text/x-python",
   "name": "python",
   "nbconvert_exporter": "python",
   "pygments_lexer": "ipython3",
   "version": "3.10.8"
  }
 },
 "nbformat": 4,
 "nbformat_minor": 5
}
